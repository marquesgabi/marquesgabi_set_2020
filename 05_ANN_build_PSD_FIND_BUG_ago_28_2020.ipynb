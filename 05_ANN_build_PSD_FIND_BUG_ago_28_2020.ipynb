{
  "nbformat": 4,
  "nbformat_minor": 0,
  "metadata": {
    "colab": {
      "name": "05_ANN_build_PSD_FIND_BUG_ago_28_2020.ipynb",
      "provenance": [],
      "collapsed_sections": [],
      "include_colab_link": true
    },
    "kernelspec": {
      "name": "python3",
      "display_name": "Python 3"
    }
  },
  "cells": [
    {
      "cell_type": "markdown",
      "metadata": {
        "id": "view-in-github",
        "colab_type": "text"
      },
      "source": [
        "<a href=\"https://colab.research.google.com/github/ucfilho/marquesgabi_set_2020/blob/master/05_ANN_build_PSD_FIND_BUG_ago_28_2020.ipynb\" target=\"_parent\"><img src=\"https://colab.research.google.com/assets/colab-badge.svg\" alt=\"Open In Colab\"/></a>"
      ]
    },
    {
      "cell_type": "code",
      "metadata": {
        "id": "Sog7Z9pyhUD_",
        "colab_type": "code",
        "colab": {}
      },
      "source": [
        "import matplotlib.pyplot as plt\n",
        "import random\n",
        "import numpy as np\n",
        "import cv2\n",
        "import zipfile\n",
        "from random import randint\n",
        "from PIL import Image\n",
        "import re\n",
        "from sklearn.model_selection import train_test_split\n",
        "#import scikit-image\n",
        "import skimage\n",
        "import pandas as pd\n",
        "import sklearn\n",
        "import matplotlib.pyplot as plt\n",
        "\n"
      ],
      "execution_count": 1,
      "outputs": []
    },
    {
      "cell_type": "code",
      "metadata": {
        "id": "FDci7cOELmv_",
        "colab_type": "code",
        "colab": {}
      },
      "source": [
        "########### CHECKED AGO 28 2020 ######################"
      ],
      "execution_count": 2,
      "outputs": []
    },
    {
      "cell_type": "code",
      "metadata": {
        "id": "Ne27Oa8E66fS",
        "colab_type": "code",
        "colab": {
          "base_uri": "https://localhost:8080/",
          "height": 53
        },
        "outputId": "56dd05f6-9a79-4cd6-ab33-2a50fd7c528b"
      },
      "source": [
        "!pip install mahotas"
      ],
      "execution_count": 3,
      "outputs": [
        {
          "output_type": "stream",
          "text": [
            "Requirement already satisfied: mahotas in /usr/local/lib/python3.6/dist-packages (1.4.11)\n",
            "Requirement already satisfied: numpy in /usr/local/lib/python3.6/dist-packages (from mahotas) (1.18.5)\n"
          ],
          "name": "stdout"
        }
      ]
    },
    {
      "cell_type": "code",
      "metadata": {
        "id": "wYo6yMKOjiJQ",
        "colab_type": "code",
        "colab": {}
      },
      "source": [
        "# Import the 'transform' module from 'skimage'\n",
        "from skimage import transform "
      ],
      "execution_count": 4,
      "outputs": []
    },
    {
      "cell_type": "code",
      "metadata": {
        "id": "La6dFeJujmZM",
        "colab_type": "code",
        "colab": {}
      },
      "source": [
        "# TensorFlow and tf.keras\n",
        "import tensorflow as tf\n",
        "from tensorflow import keras"
      ],
      "execution_count": 5,
      "outputs": []
    },
    {
      "cell_type": "code",
      "metadata": {
        "id": "5mOm3AQvCUp3",
        "colab_type": "code",
        "colab": {}
      },
      "source": [
        "# 03_ANN_NEW_DATA... only the grains in 882 are used for training \n",
        "#                    the ANN and segmented images are used to \n",
        "#                    train no-grain"
      ],
      "execution_count": 6,
      "outputs": []
    },
    {
      "cell_type": "markdown",
      "metadata": {
        "id": "HMDoD-W9CVol",
        "colab_type": "text"
      },
      "source": [
        "# 03_ANN_NEW_DATA... only the grains in 882 are used for training the ANN and segmented images are used to train no-grain"
      ]
    },
    {
      "cell_type": "code",
      "metadata": {
        "id": "LJAZpHlAi6Vq",
        "colab_type": "code",
        "colab": {
          "base_uri": "https://localhost:8080/",
          "height": 53
        },
        "outputId": "23ec5d0c-1234-4be4-e7da-caba0714925a"
      },
      "source": [
        "!git clone https://github.com/marquesgabi/Doutorado\n",
        "%cd Doutorado\n",
        "Transfere='FotosTreino882_and_Segm.zip'\n",
        "file_name = zipfile.ZipFile(Transfere, 'r')\n",
        "file_name.extractall()"
      ],
      "execution_count": 7,
      "outputs": [
        {
          "output_type": "stream",
          "text": [
            "fatal: destination path 'Doutorado' already exists and is not an empty directory.\n",
            "/content/Doutorado\n"
          ],
          "name": "stdout"
        }
      ]
    },
    {
      "cell_type": "code",
      "metadata": {
        "id": "BYx5ot9RrYYt",
        "colab_type": "code",
        "colab": {}
      },
      "source": [
        "# First step: get the segmented file (photos stored in csv file)"
      ],
      "execution_count": 8,
      "outputs": []
    },
    {
      "cell_type": "markdown",
      "metadata": {
        "id": "j8Bl70iLs7FF",
        "colab_type": "text"
      },
      "source": [
        "# First step: get the segmented file (photos stored in csv file)"
      ]
    },
    {
      "cell_type": "code",
      "metadata": {
        "id": "C35MvO7VjUA0",
        "colab_type": "code",
        "colab": {}
      },
      "source": [
        "labels = [] #name files\n",
        "\n",
        "with zipfile.ZipFile(Transfere, \"r\") as f:\n",
        "  for f in f.namelist():\n",
        "    labels.append(f)"
      ],
      "execution_count": 9,
      "outputs": []
    },
    {
      "cell_type": "code",
      "metadata": {
        "id": "KuDx6iA-w0aW",
        "colab_type": "code",
        "colab": {}
      },
      "source": [
        "Num=len(labels)\n",
        "df=pd.read_csv(labels[0])\n",
        "for i in range(1,Num):\n",
        "  df_new=pd.read_csv(labels[i])\n",
        "  df_new = df_new[~df_new['Type'].isin(['G'])] # drop grain row which is not in 882\n",
        "  frames = [df, df_new]\n",
        "  df= pd.concat(frames, ignore_index=True)\n",
        "\n",
        "y_valor=df['Type']"
      ],
      "execution_count": 10,
      "outputs": []
    },
    {
      "cell_type": "code",
      "metadata": {
        "id": "DuwLJl-21LQt",
        "colab_type": "code",
        "colab": {
          "base_uri": "https://localhost:8080/",
          "height": 269
        },
        "outputId": "e3880656-ec05-496b-cc67-70014fd05604"
      },
      "source": [
        "print(df)"
      ],
      "execution_count": 11,
      "outputs": [
        {
          "output_type": "stream",
          "text": [
            "      Unnamed: 0 Type          0  ...        782        783  Width\n",
            "0              0    G    0.00000  ...    0.68631    0.68769    NaN\n",
            "1              1    G    0.00000  ...    0.49262    0.50909    NaN\n",
            "2              2    G    0.45321  ...    0.54919    0.55439    NaN\n",
            "3              3    G    0.75367  ...    0.48524    0.61876    NaN\n",
            "4              4    G    0.94521  ...    0.98108    0.95838    NaN\n",
            "...          ...  ...        ...  ...        ...        ...    ...\n",
            "1627          45    Z  146.27896  ...  177.99518  193.41644  158.0\n",
            "1628          46    Z  189.54553  ...  174.20529  186.79413  178.0\n",
            "1629          47    Z   77.16447  ...   68.11906   61.99939  121.0\n",
            "1630          48    Z   93.59823  ...  157.16385  144.35010  186.0\n",
            "1631          49    Z  110.17294  ...  128.05782   96.93800  199.0\n",
            "\n",
            "[1632 rows x 787 columns]\n"
          ],
          "name": "stdout"
        }
      ]
    },
    {
      "cell_type": "code",
      "metadata": {
        "id": "UwELp2Lv1NKY",
        "colab_type": "code",
        "colab": {
          "base_uri": "https://localhost:8080/",
          "height": 161
        },
        "outputId": "2943bcc6-529b-4073-a182-1672a27b677f"
      },
      "source": [
        "print(df.head())"
      ],
      "execution_count": 12,
      "outputs": [
        {
          "output_type": "stream",
          "text": [
            "   Unnamed: 0 Type        0        1  ...      781      782      783  Width\n",
            "0           0    G  0.00000  0.00000  ...  0.68642  0.68631  0.68769    NaN\n",
            "1           1    G  0.00000  0.00000  ...  0.47277  0.49262  0.50909    NaN\n",
            "2           2    G  0.45321  0.52257  ...  0.54645  0.54919  0.55439    NaN\n",
            "3           3    G  0.75367  0.64590  ...  0.43356  0.48524  0.61876    NaN\n",
            "4           4    G  0.94521  0.89736  ...  0.98942  0.98108  0.95838    NaN\n",
            "\n",
            "[5 rows x 787 columns]\n"
          ],
          "name": "stdout"
        }
      ]
    },
    {
      "cell_type": "code",
      "metadata": {
        "id": "cMCpdgC91ON0",
        "colab_type": "code",
        "colab": {
          "base_uri": "https://localhost:8080/",
          "height": 269
        },
        "outputId": "611fcfe1-b00f-4a0b-c1fb-96180c624dbe"
      },
      "source": [
        "print(df)"
      ],
      "execution_count": 13,
      "outputs": [
        {
          "output_type": "stream",
          "text": [
            "      Unnamed: 0 Type          0  ...        782        783  Width\n",
            "0              0    G    0.00000  ...    0.68631    0.68769    NaN\n",
            "1              1    G    0.00000  ...    0.49262    0.50909    NaN\n",
            "2              2    G    0.45321  ...    0.54919    0.55439    NaN\n",
            "3              3    G    0.75367  ...    0.48524    0.61876    NaN\n",
            "4              4    G    0.94521  ...    0.98108    0.95838    NaN\n",
            "...          ...  ...        ...  ...        ...        ...    ...\n",
            "1627          45    Z  146.27896  ...  177.99518  193.41644  158.0\n",
            "1628          46    Z  189.54553  ...  174.20529  186.79413  178.0\n",
            "1629          47    Z   77.16447  ...   68.11906   61.99939  121.0\n",
            "1630          48    Z   93.59823  ...  157.16385  144.35010  186.0\n",
            "1631          49    Z  110.17294  ...  128.05782   96.93800  199.0\n",
            "\n",
            "[1632 rows x 787 columns]\n"
          ],
          "name": "stdout"
        }
      ]
    },
    {
      "cell_type": "code",
      "metadata": {
        "id": "etemwGmSJwfg",
        "colab_type": "code",
        "colab": {
          "base_uri": "https://localhost:8080/",
          "height": 161
        },
        "outputId": "e4d53762-cef6-48b9-a3e2-fa0fd9bb009f"
      },
      "source": [
        "quantidade= df.groupby('Type').size()\n",
        "print(quantidade)"
      ],
      "execution_count": 14,
      "outputs": [
        {
          "output_type": "stream",
          "text": [
            "Type\n",
            "B    180\n",
            "G    245\n",
            "I    180\n",
            "N    115\n",
            "V    162\n",
            "Z    750\n",
            "dtype: int64\n"
          ],
          "name": "stdout"
        }
      ]
    },
    {
      "cell_type": "code",
      "metadata": {
        "id": "3zQs33kUiKia",
        "colab_type": "code",
        "colab": {
          "base_uri": "https://localhost:8080/",
          "height": 269
        },
        "outputId": "af2e08c5-eaa1-4911-de42-93e3e9e23c42"
      },
      "source": [
        "df_G = df[df[\"Type\"] == \"G\"] \n",
        "Cut=['Unnamed: 0','Type','Width']\n",
        "FotosG= df_G.drop(Cut,axis=1)\n",
        "print(FotosG)"
      ],
      "execution_count": 15,
      "outputs": [
        {
          "output_type": "stream",
          "text": [
            "           0        1        2        3  ...      780      781      782      783\n",
            "0    0.00000  0.00000  0.00315  0.00851  ...  0.67356  0.68642  0.68631  0.68769\n",
            "1    0.00000  0.00000  0.00000  0.00309  ...  0.49065  0.47277  0.49262  0.50909\n",
            "2    0.45321  0.52257  0.56642  0.56989  ...  0.53468  0.54645  0.54919  0.55439\n",
            "3    0.75367  0.64590  0.62497  0.63117  ...  0.43764  0.43356  0.48524  0.61876\n",
            "4    0.94521  0.89736  0.61852  0.51112  ...  0.98909  0.98942  0.98108  0.95838\n",
            "..       ...      ...      ...      ...  ...      ...      ...      ...      ...\n",
            "859  0.23165  0.23021  0.24320  0.24350  ...  0.31947  0.31158  0.31221  0.30411\n",
            "860  0.61049  0.60788  0.59600  0.56381  ...  0.44688  0.52280  0.54299  0.54212\n",
            "861  0.22512  0.23546  0.22381  0.18768  ...  0.47572  0.46135  0.42758  0.39699\n",
            "862  0.27590  0.33744  0.37933  0.38712  ...  0.45469  0.47264  0.47628  0.47473\n",
            "863  0.36465  0.36691  0.36716  0.37197  ...  0.31352  0.30879  0.29508  0.28568\n",
            "\n",
            "[245 rows x 784 columns]\n"
          ],
          "name": "stdout"
        }
      ]
    },
    {
      "cell_type": "code",
      "metadata": {
        "id": "yoCCWlMIk60_",
        "colab_type": "code",
        "colab": {}
      },
      "source": [
        "########### NOT COMPLETELY CHECKED AGO 28 2020 ######################"
      ],
      "execution_count": null,
      "outputs": []
    },
    {
      "cell_type": "code",
      "metadata": {
        "id": "zpcaToQViXdk",
        "colab_type": "code",
        "colab": {}
      },
      "source": [
        "Size=28\n",
        "img_G=[]\n",
        "# FotosZ= np.array(FotosZ)\n",
        "\n",
        "Num,cols=FotosG.shape\n",
        "for i in range(Num):\n",
        "  data=np.array(FotosG.iloc[i]).reshape(Size,Size)\n",
        "  img = Image.fromarray(data.astype('uint8'), mode='L')\n",
        "  img=np.float32(img)\n",
        "  img28=cv2.resize(img,(Size,Size), interpolation = cv2.INTER_AREA)\n",
        "  img_G.append(img28)"
      ],
      "execution_count": 16,
      "outputs": []
    },
    {
      "cell_type": "code",
      "metadata": {
        "id": "Sy-jEbrzioeu",
        "colab_type": "code",
        "colab": {
          "base_uri": "https://localhost:8080/",
          "height": 860
        },
        "outputId": "66685ed5-97a0-48ee-877b-cd7c22bed769"
      },
      "source": [
        "plt.figure(figsize=(15,15))\n",
        "Num=49\n",
        "for i in range(Num):\n",
        "  img=img_G[i].resize(28,28)\n",
        "  plt.subplot(7,7,i+1)\n",
        "  plt.xticks([])\n",
        "  plt.yticks([])\n",
        "  plt.grid(False)\n",
        "  Foto=np.array(img_G[i]).reshape(28,28)\n",
        "  plt.imshow(Foto, cmap = \"gray\")\n",
        "  plt.xlabel(i)"
      ],
      "execution_count": 17,
      "outputs": [
        {
          "output_type": "display_data",
          "data": {
            "image/png": "[encoded data removed]",
            "text/plain": [
              "<Figure size 1080x1080 with 49 Axes>"
            ]
          },
          "metadata": {
            "tags": []
          }
        }
      ]
    },
    {
      "cell_type": "code",
      "metadata": {
        "id": "pTbITchUkmP8",
        "colab_type": "code",
        "colab": {
          "base_uri": "https://localhost:8080/",
          "height": 35
        },
        "outputId": "d15866ca-52ae-4c61-d9ab-a2a486e49885"
      },
      "source": [
        "print(img)"
      ],
      "execution_count": 27,
      "outputs": [
        {
          "output_type": "stream",
          "text": [
            "None\n"
          ],
          "name": "stdout"
        }
      ]
    },
    {
      "cell_type": "code",
      "metadata": {
        "id": "QbhYxJ9HOgBB",
        "colab_type": "code",
        "colab": {
          "base_uri": "https://localhost:8080/",
          "height": 269
        },
        "outputId": "141fc95b-467a-4f92-83b3-e64887960c37"
      },
      "source": [
        "df_Z = df[df[\"Type\"] == \"Z\"] \n",
        "Cut=['Unnamed: 0','Type','Width']\n",
        "FotosZ= df_Z.drop(Cut,axis=1)\n",
        "print(FotosZ)"
      ],
      "execution_count": 18,
      "outputs": [
        {
          "output_type": "stream",
          "text": [
            "              0          1          2  ...        781        782        783\n",
            "882    99.66225  102.53902  105.61966  ...    0.00000    0.00000    0.00000\n",
            "883    76.92050   71.22499   74.38184  ...   74.69497   74.31098   71.98919\n",
            "884    93.92000   91.24000   73.32000  ...    0.00000    0.00000    0.00000\n",
            "885    73.05943   80.09882   82.46129  ...  100.20395  109.51174  120.26761\n",
            "886   122.86490  123.56383  124.44763  ...  100.99214   96.51134   90.73105\n",
            "...         ...        ...        ...  ...        ...        ...        ...\n",
            "1627  146.27896  149.26598  153.09581  ...  161.62216  177.99518  193.41644\n",
            "1628  189.54553  211.03372  230.51788  ...  167.19521  174.20529  186.79413\n",
            "1629   77.16447   76.29322   74.31848  ...   69.47470   68.11906   61.99939\n",
            "1630   93.59823   93.16210   92.73212  ...  159.58344  157.16385  144.35010\n",
            "1631  110.17294  121.77184  133.03445  ...  134.67851  128.05782   96.93800\n",
            "\n",
            "[750 rows x 784 columns]\n"
          ],
          "name": "stdout"
        }
      ]
    },
    {
      "cell_type": "code",
      "metadata": {
        "id": "18HNT4cTUDvs",
        "colab_type": "code",
        "colab": {}
      },
      "source": [
        "Size=28\n",
        "img_Z=[]\n",
        "# FotosZ= np.array(FotosZ)\n",
        "\n",
        "Num,cols=FotosZ.shape\n",
        "for i in range(Num):\n",
        "  data=np.array(FotosZ.iloc[i]).reshape(Size,Size)\n",
        "  img = Image.fromarray(data.astype('uint8'), mode='L')\n",
        "  img=np.float32(img)\n",
        "  img28=cv2.resize(img,(Size,Size), interpolation = cv2.INTER_AREA)\n",
        "  img_Z.append(img28)\n"
      ],
      "execution_count": 19,
      "outputs": []
    },
    {
      "cell_type": "code",
      "metadata": {
        "id": "nP3TuTZ7elLp",
        "colab_type": "code",
        "colab": {
          "base_uri": "https://localhost:8080/",
          "height": 283
        },
        "outputId": "1238cdca-4abb-4955-a51f-17848ebd82fa"
      },
      "source": [
        "Foto=np.array(img_Z[0]).reshape(28,28)\n",
        "plt.imshow(Foto, cmap = \"gray\")"
      ],
      "execution_count": 20,
      "outputs": [
        {
          "output_type": "execute_result",
          "data": {
            "text/plain": [
              "<matplotlib.image.AxesImage at 0x7fa65cc95320>"
            ]
          },
          "metadata": {
            "tags": []
          },
          "execution_count": 20
        },
        {
          "output_type": "display_data",
          "data": {
            "image/png": "[encoded data removed]",
            "text/plain": [
              "<Figure size 432x288 with 1 Axes>"
            ]
          },
          "metadata": {
            "tags": [],
            "needs_background": "light"
          }
        }
      ]
    },
    {
      "cell_type": "code",
      "metadata": {
        "id": "D3PgPDU4fwpX",
        "colab_type": "code",
        "colab": {
          "base_uri": "https://localhost:8080/",
          "height": 879
        },
        "outputId": "71ec0d10-ec7f-4f4a-f85e-2b93cbf2d9fb"
      },
      "source": [
        "plt.figure(figsize=(15,15))\n",
        "Num=49\n",
        "for i in range(Num):\n",
        "  img=img_Z[i].resize(28,28)\n",
        "  plt.subplot(7,7,i+1)\n",
        "  plt.xticks([])\n",
        "  plt.yticks([])\n",
        "  plt.grid(False)\n",
        "  Foto=np.array(img_Z[i]).reshape(28,28)\n",
        "  plt.imshow(Foto, cmap = \"gray\")\n",
        "  plt.xlabel(i)\n",
        "''' '''"
      ],
      "execution_count": 21,
      "outputs": [
        {
          "output_type": "execute_result",
          "data": {
            "application/vnd.google.colaboratory.intrinsic+json": {
              "type": "string"
            },
            "text/plain": [
              "' '"
            ]
          },
          "metadata": {
            "tags": []
          },
          "execution_count": 21
        },
        {
          "output_type": "display_data",
          "data": {
            "image/png": "[encoded data removed]",
            "text/plain": [
              "<Figure size 1080x1080 with 49 Axes>"
            ]
          },
          "metadata": {
            "tags": []
          }
        }
      ]
    },
    {
      "cell_type": "code",
      "metadata": {
        "id": "Cnz4vlwagcX8",
        "colab_type": "code",
        "colab": {}
      },
      "source": [
        "GRAO=[0]"
      ],
      "execution_count": 22,
      "outputs": []
    },
    {
      "cell_type": "code",
      "metadata": {
        "id": "KfZPx3r6gtwv",
        "colab_type": "code",
        "colab": {
          "base_uri": "https://localhost:8080/",
          "height": 879
        },
        "outputId": "fa393e09-83ca-42e8-afa5-2c220352a135"
      },
      "source": [
        "plt.figure(figsize=(15,15))\n",
        "i=1\n",
        "Start=Num*i\n",
        "k=0\n",
        "for i in range(Start,Start+Num):\n",
        "  img=img_Z[i].resize(28,28)\n",
        "  plt.subplot(7,7,k+1)\n",
        "  k=k+1\n",
        "  plt.xticks([])\n",
        "  plt.yticks([])\n",
        "  plt.grid(False)\n",
        "  Foto=np.array(img_Z[i]).reshape(28,28)\n",
        "  plt.imshow(Foto, cmap = \"gray\")\n",
        "  plt.xlabel(i)\n",
        "''' '''"
      ],
      "execution_count": 23,
      "outputs": [
        {
          "output_type": "execute_result",
          "data": {
            "application/vnd.google.colaboratory.intrinsic+json": {
              "type": "string"
            },
            "text/plain": [
              "' '"
            ]
          },
          "metadata": {
            "tags": []
          },
          "execution_count": 23
        },
        {
          "output_type": "display_data",
          "data": {
            "image/png": "[encoded data removed]",
            "text/plain": [
              "<Figure size 1080x1080 with 49 Axes>"
            ]
          },
          "metadata": {
            "tags": []
          }
        }
      ]
    },
    {
      "cell_type": "code",
      "metadata": {
        "id": "uGQBEtkKhsCO",
        "colab_type": "code",
        "colab": {}
      },
      "source": [
        "GRAO=[0,]"
      ],
      "execution_count": 24,
      "outputs": []
    },
    {
      "cell_type": "code",
      "metadata": {
        "id": "bWvgNpqTSQkw",
        "colab_type": "code",
        "colab": {
          "base_uri": "https://localhost:8080/",
          "height": 169
        },
        "outputId": "c0936193-2185-4e13-c7c4-8121d329c063"
      },
      "source": [
        "print(gxw)"
      ],
      "execution_count": 25,
      "outputs": [
        {
          "output_type": "error",
          "ename": "NameError",
          "evalue": "ignored",
          "traceback": [
            "\u001b[0;31m---------------------------------------------------------------------------\u001b[0m",
            "\u001b[0;31mNameError\u001b[0m                                 Traceback (most recent call last)",
            "\u001b[0;32m<ipython-input-25-9b582c7ff42a>\u001b[0m in \u001b[0;36m<module>\u001b[0;34m()\u001b[0m\n\u001b[0;32m----> 1\u001b[0;31m \u001b[0mprint\u001b[0m\u001b[0;34m(\u001b[0m\u001b[0mgxw\u001b[0m\u001b[0;34m)\u001b[0m\u001b[0;34m\u001b[0m\u001b[0;34m\u001b[0m\u001b[0m\n\u001b[0m",
            "\u001b[0;31mNameError\u001b[0m: name 'gxw' is not defined"
          ]
        }
      ]
    },
    {
      "cell_type": "code",
      "metadata": {
        "id": "QkmDIme9Vo9t",
        "colab_type": "code",
        "colab": {}
      },
      "source": [
        "Num"
      ],
      "execution_count": null,
      "outputs": []
    },
    {
      "cell_type": "code",
      "metadata": {
        "id": "qo4R5vPDPbXl",
        "colab_type": "code",
        "colab": {}
      },
      "source": [
        "print(d.f_Zshape)"
      ],
      "execution_count": null,
      "outputs": []
    },
    {
      "cell_type": "code",
      "metadata": {
        "id": "VYa2tsn4L5kE",
        "colab_type": "code",
        "colab": {}
      },
      "source": [
        "########### NOT CHECKED AGO 28 2020 ######################"
      ],
      "execution_count": null,
      "outputs": []
    },
    {
      "cell_type": "code",
      "metadata": {
        "colab_type": "code",
        "id": "wq1CSlXUhjEv",
        "colab": {}
      },
      "source": [
        "df_teste=pd.read_csv(labels[2])\n",
        "print(df_teste.head())"
      ],
      "execution_count": null,
      "outputs": []
    },
    {
      "cell_type": "code",
      "metadata": {
        "id": "nkMXproqxZig",
        "colab_type": "code",
        "colab": {}
      },
      "source": [
        "print(df.tail())"
      ],
      "execution_count": null,
      "outputs": []
    },
    {
      "cell_type": "code",
      "metadata": {
        "id": "TpuIGIU-pkiG",
        "colab_type": "code",
        "colab": {}
      },
      "source": [
        "Fotos=df.drop(['Unnamed: 0','Type','Width'], axis=1)"
      ],
      "execution_count": null,
      "outputs": []
    },
    {
      "cell_type": "code",
      "metadata": {
        "id": "QYpsqk8iqOG2",
        "colab_type": "code",
        "colab": {}
      },
      "source": [
        "df=df.drop(['Unnamed: 0','Type','Width'], axis=1)"
      ],
      "execution_count": null,
      "outputs": []
    },
    {
      "cell_type": "code",
      "metadata": {
        "id": "zfXvfb-n9LPp",
        "colab_type": "code",
        "colab": {}
      },
      "source": [
        "print(df.describe())"
      ],
      "execution_count": null,
      "outputs": []
    },
    {
      "cell_type": "code",
      "metadata": {
        "id": "X2PqY2SbzFI2",
        "colab_type": "code",
        "colab": {}
      },
      "source": [
        "print(np.array(Fotos).shape )"
      ],
      "execution_count": null,
      "outputs": []
    },
    {
      "cell_type": "markdown",
      "metadata": {
        "id": "sDoUMG4vsmoa",
        "colab_type": "text"
      },
      "source": [
        "# Second step: create the ann to evaluate which is a grain in photos segmented\n"
      ]
    },
    {
      "cell_type": "code",
      "metadata": {
        "id": "qlX05oVmx3cY",
        "colab_type": "code",
        "colab": {}
      },
      "source": [
        "# only crop photos teach what is grain...."
      ],
      "execution_count": null,
      "outputs": []
    },
    {
      "cell_type": "code",
      "metadata": {
        "id": "biuEDBlM4H_J",
        "colab_type": "code",
        "colab": {}
      },
      "source": [
        "images28=np.array(df)"
      ],
      "execution_count": null,
      "outputs": []
    },
    {
      "cell_type": "code",
      "metadata": {
        "id": "G1FNc_PgKZ3o",
        "colab_type": "code",
        "colab": {}
      },
      "source": [
        "#print(y_valor)"
      ],
      "execution_count": null,
      "outputs": []
    },
    {
      "cell_type": "code",
      "metadata": {
        "id": "PgZ5KNGh8mzN",
        "colab_type": "code",
        "colab": {}
      },
      "source": [
        "y_new=[]\n",
        "Grain=0\n",
        "Others=0\n",
        "Cont=-1\n",
        "Others_Local=[]\n",
        "Grain_Local=[]\n",
        "for x in y_valor:\n",
        "  Cont=Cont+1\n",
        "  if re.search('G', x):\n",
        "    y_new.append(1)\n",
        "    Grain=Grain+1\n",
        "    Grain_Local.append(Cont)\n",
        "  else:\n",
        "    y_new.append(2)\n",
        "    Others=Others+1\n",
        "    Others_Local.append(Cont)"
      ],
      "execution_count": null,
      "outputs": []
    },
    {
      "cell_type": "code",
      "metadata": {
        "id": "q4IZyKSa_Xvv",
        "colab_type": "code",
        "colab": {}
      },
      "source": [
        "print('Graos=',Grain)\n",
        "print('Others=',Others)\n",
        "print('Others local',Others_Local)\n",
        "print('Grain local',Grain_Local)\n",
        "\n",
        "sampled_list = random.sample(Others_Local,Grain)"
      ],
      "execution_count": null,
      "outputs": []
    },
    {
      "cell_type": "code",
      "metadata": {
        "colab_type": "code",
        "id": "zvRB2ROqCgc6",
        "colab": {}
      },
      "source": [
        "print('Graos=',Grain)\n",
        "print('Others=',Others)\n",
        "print('Others local',Others_Local)\n",
        "sampled_list = random.sample(Others_Local,Grain)\n"
      ],
      "execution_count": null,
      "outputs": []
    },
    {
      "cell_type": "code",
      "metadata": {
        "colab_type": "code",
        "id": "TgjoSbt0Chl-",
        "colab": {}
      },
      "source": [
        "print('Graos=',Grain)\n",
        "print('Others=',Others)\n",
        "print('Others local',Others_Local)\n",
        "print('Grain local',Grain_Local)\n"
      ],
      "execution_count": null,
      "outputs": []
    },
    {
      "cell_type": "code",
      "metadata": {
        "id": "HkM-s9TiCyLt",
        "colab_type": "code",
        "colab": {}
      },
      "source": [
        "x_new=[]\n",
        "y_rede=[]\n",
        "for i in range(Grain):\n",
        "  x_new.append(Fotos.iloc[Grain_Local[i]])\n",
        "  x_new.append(Fotos.iloc[sampled_list[i]])\n",
        "  y_rede.append(y_new[Grain_Local[i]])\n",
        "  y_rede.append(y_new[sampled_list[i]])\n"
      ],
      "execution_count": null,
      "outputs": []
    },
    {
      "cell_type": "code",
      "metadata": {
        "id": "4qHR83qhGa0G",
        "colab_type": "code",
        "colab": {}
      },
      "source": [
        "np.array(x_new).shape"
      ],
      "execution_count": null,
      "outputs": []
    },
    {
      "cell_type": "code",
      "metadata": {
        "id": "MZp3WDdEFu3I",
        "colab_type": "code",
        "colab": {}
      },
      "source": [
        "#pd.DataFrame(y_rede).describe()"
      ],
      "execution_count": null,
      "outputs": []
    },
    {
      "cell_type": "code",
      "metadata": {
        "id": "Nb33el9Y9AXG",
        "colab_type": "code",
        "colab": {}
      },
      "source": [
        "# y_valor=np.copy(y_new)\n",
        "y_total=np.copy(y_rede)"
      ],
      "execution_count": null,
      "outputs": []
    },
    {
      "cell_type": "code",
      "metadata": {
        "id": "MSs3qh0_uO94",
        "colab_type": "code",
        "colab": {}
      },
      "source": [
        "#Define data train and data test\n",
        "#images28=Fotos\n",
        "images28=x_new #Fotos\n",
        "W_train, W_test, yw_train, yw_test = train_test_split(np.array(images28), np.array(y_total), \n",
        "                                                    test_size=0.30, shuffle=True, \n",
        "                                                    random_state=42)"
      ],
      "execution_count": null,
      "outputs": []
    },
    {
      "cell_type": "code",
      "metadata": {
        "id": "MGzcVt8V0ft2",
        "colab_type": "code",
        "colab": {}
      },
      "source": [
        "print(len(y_total))\n",
        "print(len(yw_test))\n",
        "print(len(yw_train))\n",
        "A=490*0.3\n",
        "print(A)"
      ],
      "execution_count": null,
      "outputs": []
    },
    {
      "cell_type": "code",
      "metadata": {
        "id": "pwHcagDGuow0",
        "colab_type": "code",
        "colab": {}
      },
      "source": [
        "train_images=W_train #imagens utilizadas para o treino\n",
        "train_labels=yw_train # resposta esperada para o treino\n",
        "test_images=W_test\n",
        "test_labels=yw_test"
      ],
      "execution_count": null,
      "outputs": []
    },
    {
      "cell_type": "code",
      "metadata": {
        "id": "YEblnmBlsTMc",
        "colab_type": "code",
        "colab": {}
      },
      "source": [
        "#print(len(test_labels))"
      ],
      "execution_count": null,
      "outputs": []
    },
    {
      "cell_type": "code",
      "metadata": {
        "id": "IWSEclzGurul",
        "colab_type": "code",
        "colab": {}
      },
      "source": [
        "model = keras.Sequential([\n",
        "    keras.layers.Flatten(input_shape=(28, 28)),\n",
        "    keras.layers.Dense(128, activation='relu'),\n",
        "    keras.layers.Dense(10)\n",
        "])"
      ],
      "execution_count": null,
      "outputs": []
    },
    {
      "cell_type": "code",
      "metadata": {
        "id": "w88iZqfVusm0",
        "colab_type": "code",
        "colab": {}
      },
      "source": [
        "model.compile(optimizer='adam',\n",
        "              loss=tf.keras.losses.SparseCategoricalCrossentropy(from_logits=True),\n",
        "              metrics=['accuracy'])"
      ],
      "execution_count": null,
      "outputs": []
    },
    {
      "cell_type": "code",
      "metadata": {
        "id": "a0MAtbvxuwQE",
        "colab_type": "code",
        "colab": {}
      },
      "source": [
        "# GRAIN use crop photos other cases segmented\n",
        "model.fit(train_images, train_labels, epochs=200) "
      ],
      "execution_count": null,
      "outputs": []
    },
    {
      "cell_type": "code",
      "metadata": {
        "id": "I0BTZBnKuy5p",
        "colab_type": "code",
        "colab": {}
      },
      "source": [
        "#ANN das imagens\n",
        "x=np.array(W_test)\n",
        "logits = model(x, training=False)\n",
        "prediction = tf.argmax(logits, axis=1, output_type=tf.int32)\n",
        "#print(prediction)"
      ],
      "execution_count": null,
      "outputs": []
    },
    {
      "cell_type": "code",
      "metadata": {
        "id": "JRYwCufJyyTI",
        "colab_type": "code",
        "colab": {}
      },
      "source": [
        "print(x)"
      ],
      "execution_count": null,
      "outputs": []
    },
    {
      "cell_type": "code",
      "metadata": {
        "id": "wU-3mMSMu6a6",
        "colab_type": "code",
        "colab": {}
      },
      "source": [
        "y_valor=np.copy(yw_test)\n",
        "data = {'y_Actual': y_valor,\n",
        "        'y_Predicted': prediction\n",
        "        }  # este dado esta no formato de dicionario\n",
        "\n",
        "df = pd.DataFrame(data, columns=['y_Actual','y_Predicted'])\n",
        "#print (df)"
      ],
      "execution_count": null,
      "outputs": []
    },
    {
      "cell_type": "code",
      "metadata": {
        "id": "u48SDVPavRwS",
        "colab_type": "code",
        "colab": {}
      },
      "source": [
        "confusion_matrix = pd.crosstab(df['y_Actual'], df['y_Predicted'], rownames=['Actual'], colnames=['Predicted'])\n",
        "print(confusion_matrix)"
      ],
      "execution_count": null,
      "outputs": []
    },
    {
      "cell_type": "code",
      "metadata": {
        "id": "hyU1PG434y8F",
        "colab_type": "code",
        "colab": {}
      },
      "source": [
        "y_true = df['y_Actual']\n",
        "y_pred = df['y_Predicted']\n",
        "print(sklearn.metrics.classification_report(y_true, y_pred))"
      ],
      "execution_count": null,
      "outputs": []
    },
    {
      "cell_type": "code",
      "metadata": {
        "id": "uiD6Nl-JHqvu",
        "colab_type": "code",
        "colab": {}
      },
      "source": [
        "#"
      ],
      "execution_count": null,
      "outputs": []
    },
    {
      "cell_type": "markdown",
      "metadata": {
        "id": "B3UfvtMqHzxM",
        "colab_type": "text"
      },
      "source": [
        "# Third step: testing ANN other segmented images"
      ]
    },
    {
      "cell_type": "code",
      "metadata": {
        "id": "MN7tnJfjHIdo",
        "colab_type": "code",
        "colab": {}
      },
      "source": [
        "!git clone https://github.com/ucfilho/marquesgabi_August_2020\n",
        "%cd marquesgabi_August_2020"
      ],
      "execution_count": null,
      "outputs": []
    },
    {
      "cell_type": "code",
      "metadata": {
        "id": "TMdkCzS5HkG_",
        "colab_type": "code",
        "colab": {}
      },
      "source": [
        "Transfere='img28_all00.zip'\n",
        "file_name = zipfile.ZipFile(Transfere, 'r')\n",
        "file_name.extractall()"
      ],
      "execution_count": null,
      "outputs": []
    },
    {
      "cell_type": "code",
      "metadata": {
        "id": "I9WiyyRrMTHX",
        "colab_type": "code",
        "colab": {}
      },
      "source": [
        "labels = [] #name files\n",
        "\n",
        "with zipfile.ZipFile(Transfere, \"r\") as f:\n",
        "  for f in f.namelist():\n",
        "    labels.append(f)"
      ],
      "execution_count": null,
      "outputs": []
    },
    {
      "cell_type": "code",
      "metadata": {
        "id": "_MM9nDQtwsq4",
        "colab_type": "code",
        "colab": {}
      },
      "source": [
        "df=pd.read_csv(labels[0])\n",
        "print(df.shape)"
      ],
      "execution_count": null,
      "outputs": []
    },
    {
      "cell_type": "code",
      "metadata": {
        "id": "DxWbtaIEKsSg",
        "colab_type": "code",
        "colab": {}
      },
      "source": [
        "df=pd.read_csv(labels[0])\n",
        "Width_All=df['Width']\n",
        "df=df.drop(['Unnamed: 0','Type','Width'], axis=1)\n",
        "print(df.head())"
      ],
      "execution_count": null,
      "outputs": []
    },
    {
      "cell_type": "markdown",
      "metadata": {
        "id": "u4f7NjosMyYG",
        "colab_type": "text"
      },
      "source": [
        "# Fourth step test ANN for data to be used for PSD (Particle size distribution) determination"
      ]
    },
    {
      "cell_type": "code",
      "metadata": {
        "id": "OqQ2_G5_5KhB",
        "colab_type": "code",
        "colab": {}
      },
      "source": [
        "# Mahotas used: marquesgabi_fev_2020/02_Mahotas_fracionado_fev_20_2020.ipynb"
      ],
      "execution_count": null,
      "outputs": []
    },
    {
      "cell_type": "code",
      "metadata": {
        "id": "CNesWgX1-gqp",
        "colab_type": "code",
        "colab": {}
      },
      "source": [
        "!git clone https://github.com/ucfilho/marquesgabi_fev_2020 #clonar do Github\n",
        "%cd marquesgabi_fev_2020"
      ],
      "execution_count": null,
      "outputs": []
    },
    {
      "cell_type": "code",
      "metadata": {
        "id": "UAjAyirk5XtD",
        "colab_type": "code",
        "colab": {}
      },
      "source": [
        "import mahotas.features.texture as mht\n",
        "import mahotas.features\n",
        "from skimage import filters\n",
        "from skimage import exposure\n",
        "import skimage.feature as sk\n",
        "from google.colab import files\n",
        "from numpy import linalg as LA\n",
        "from scipy import stats\n",
        "from scipy.signal import find_peaks\n",
        "from scipy.signal import peak_prominences\n",
        "from scipy.signal import peak_widths\n",
        "from scipy import integrate\n",
        "import re\n",
        "import Go2BlackWhite\n",
        "import Go2Mahotas"
      ],
      "execution_count": null,
      "outputs": []
    },
    {
      "cell_type": "code",
      "metadata": {
        "id": "P3ktDsN-851A",
        "colab_type": "code",
        "colab": {}
      },
      "source": [
        "\n",
        "Escolha=['ASM', 'constrast', 'correl', 'variance', 'inv diff mom', 'sum aveg', \n",
        "         'sum var', 'sum entropy', 'entropy', 'dif var', 'dif entropy', \n",
        "         'IMC1', 'IMC2']\n",
        "\n",
        "Prop=Escolha[1] # Propriedade a escolher para ter picos, largura de pico, proeminencia,..."
      ],
      "execution_count": null,
      "outputs": []
    },
    {
      "cell_type": "code",
      "metadata": {
        "id": "N_BbzDjxPjaS",
        "colab_type": "code",
        "colab": {}
      },
      "source": [
        "#ANN das imagens\n",
        "x=np.array(df)\n",
        "logits = model(x, training=False)\n",
        "prediction = tf.argmax(logits, axis=1, output_type=tf.int32)\n",
        "#print(prediction)"
      ],
      "execution_count": null,
      "outputs": []
    },
    {
      "cell_type": "code",
      "metadata": {
        "id": "1Z8keSNCQLCu",
        "colab_type": "code",
        "colab": {}
      },
      "source": [
        "y=np.array(prediction)\n",
        "Num=len(y)\n",
        "print(Num)"
      ],
      "execution_count": null,
      "outputs": []
    },
    {
      "cell_type": "code",
      "metadata": {
        "id": "jeI5CgqMVIy_",
        "colab_type": "code",
        "colab": {}
      },
      "source": [
        "print(y)"
      ],
      "execution_count": null,
      "outputs": []
    },
    {
      "cell_type": "code",
      "metadata": {
        "id": "oFxdeNNzQylf",
        "colab_type": "code",
        "colab": {}
      },
      "source": [
        "# select just the grains to show picture\n",
        "grain=[]\n",
        "Mahotas_Prop=[]\n",
        "Todas_Fotos=[] \n",
        "\n",
        "img28_all=pd.DataFrame(x)\n",
        "Width_Grain_2=[]\n",
        "\n",
        "Size=28 # tamanho da foto\n",
        "Sub_Size=int(Size/5) # tamanho do fracionamento\n",
        "Row_Crop=1/2 # posicao do corte\n",
        "#Row_Crop=1/3 # posicao do corte\n",
        "Crop=int(Size*Row_Crop)\n",
        "\n",
        "\n",
        "for i in range(Num):\n",
        "  if(y[i]==1):\n",
        "    grain.append(i)\n",
        "    Width_Grain_2.append(Width_All[i])\n",
        "\n",
        "cont=0 # \n",
        "cols=5\n",
        "rows=int(len(grain)/cols)+1\n",
        "Grao_in_All28=[]\n",
        "\n",
        "for i in range(Num):\n",
        "  if(y[i]==1):\n",
        "    Grao_in_All28.append(i)\n",
        "    cont=cont+1\n",
        "    plt.subplot(rows,cols,cont) # subplot not allow cont=0\n",
        "    plt.xticks([])\n",
        "    plt.yticks([])\n",
        "    plt.grid(False)\n",
        "    Foto=np.array(img28_all.iloc[i]).reshape(28,28)\n",
        "    plt.imshow(Foto, cmap = \"gray\")\n",
        "    plt.xlabel(i)\n",
        "\n",
        "    Prop_Escolhida=[]\n",
        "    \n",
        "    # p_foto=ww[k].reshape(Size,Size)\n",
        "    p_foto=Foto\n",
        "    GLCM=[]\n",
        "    glcm_haralick=[]\n",
        "    x_ref=[]\n",
        "    Count=Sub_Size\n",
        "    p=np.zeros((Sub_Size,Sub_Size))\n",
        "    j_ref=0\n",
        "    Cada_foto=[]\n",
        "    Posicao_X=[]\n",
        "    Posicao_Y=[]\n",
        "    for k in range(Size):\n",
        "      if((k+Sub_Size-1)<Size):\n",
        "        #print(\"(k+Sub_Size)=\",(k+Sub_Size),\"k=\",k)\n",
        "        for i in range(Sub_Size):\n",
        "          Posicao_X.append(Crop+i)\n",
        "          for j in range(Sub_Size):\n",
        "            p[i,j]=p_foto[Crop+i,j+k]\n",
        "            Posicao_Y.append(j+k)\n",
        "\n",
        "        WW=np.copy(p) \n",
        "        Cada_foto.append(WW.ravel())\n",
        "        x_ref.append(Count-Sub_Size)\n",
        "        Count=Count+1\n",
        "      \n",
        "        Mahotas =pd.DataFrame(mahotas.features.haralick(p.astype(int)), columns =Escolha)\n",
        "        Prop_Escolhida.append(Mahotas[Prop].mean())\n",
        "\n",
        "    Todas_Fotos.append(Prop_Escolhida)\n",
        "\n",
        "df_mahotas=pd.DataFrame(Todas_Fotos)\n",
        "\n",
        "plt.subplots_adjust(bottom=0.1, right=1.2, top=2,hspace=0.3, wspace=0.1)"
      ],
      "execution_count": null,
      "outputs": []
    },
    {
      "cell_type": "code",
      "metadata": {
        "id": "IoxCjN_dI-zp",
        "colab_type": "code",
        "colab": {}
      },
      "source": [
        "Features_Total=[]\n",
        "cont=-1\n",
        "for i in range(Num):\n",
        "  if(y[i]==1):\n",
        "    cont=cont+1\n",
        "    x_psd=df_mahotas.iloc[cont]\n",
        "    peaks, rr = find_peaks(x_psd, height=0)\n",
        "\n",
        "    N_peaks=len(peaks)\n",
        "    prominences = peak_prominences(x_psd, peaks)\n",
        "    \n",
        "    #Area = simps(x, dx=1)\n",
        "    Area = integrate.simps(x_psd, dx=1)\n",
        "    if(len(peaks)==0):\n",
        "      Width_peaks =0\n",
        "      Width_peaks_max =0\n",
        "      Width_peaks_min =0\n",
        "      Media_proem=0    \n",
        "    else:\n",
        "      Width_peaks =np.mean(peak_widths(x_psd, peaks, rel_height=0.5))\n",
        "      Width_peaks_max =np.max(peak_widths(x_psd, peaks, rel_height=0.5))\n",
        "      Width_peaks_min =np.min(peak_widths(x_psd, peaks, rel_height=0.5))\n",
        "      Media_proem=np.mean(prominences)\n",
        "    Median = np.median(x_psd)\n",
        "    Mode= stats.mode(x_psd)[0]\n",
        "    Mean=np.mean(x_psd)\n",
        "    Sd=np.std(x_psd)\n",
        "\n",
        "    Features=[]\n",
        "    Features.append(N_peaks)\n",
        "    Features.append(Media_proem )\n",
        "    Features.append(Area)\n",
        "    Features.append(Width_peaks )\n",
        "    Features.append(Width_peaks_max)\n",
        "    Features.append(Width_peaks_min)\n",
        "    Features.append(Median )\n",
        "    Features.append(Mode[0])\n",
        "    Features.append(Mean)\n",
        "    Features.append(Sd)\n",
        "\n",
        "    Features_Total.append(Features)\n",
        "\n",
        "Nomes_PSD=['N_peaks','Media_proem','Area','Width_peaks','Width_peaks_max',\n",
        "                    'Width_peaks_min','Median','Mode','Mean','Sd'] \n",
        "  \n",
        "Features_Total=pd.DataFrame(Features_Total,columns=Nomes_PSD)\n",
        "    \n",
        "print(Features_Total)\n",
        "# Features_total represents properties without considering there is no class \n",
        "# Features_total describes all grains found by the ANN"
      ],
      "execution_count": null,
      "outputs": []
    },
    {
      "cell_type": "code",
      "metadata": {
        "id": "JU2tWkqICxsn",
        "colab_type": "code",
        "colab": {}
      },
      "source": [
        "rows=1;cols=2\n",
        "k=8\n",
        "plt.subplot(rows,cols,1)\n",
        "plt.plot(df_mahotas.iloc[k])\n",
        "Foto=np.array(img28_all.iloc[Grao_in_All28[k]]).reshape(28,28)\n",
        "plt.subplot(rows,cols,2)\n",
        "plt.imshow(Foto, cmap = \"gray\")"
      ],
      "execution_count": null,
      "outputs": []
    },
    {
      "cell_type": "code",
      "metadata": {
        "id": "K1mMdsBdtCxF",
        "colab_type": "code",
        "colab": {}
      },
      "source": [
        "print(Width_Grain_2)"
      ],
      "execution_count": null,
      "outputs": []
    },
    {
      "cell_type": "code",
      "metadata": {
        "id": "UdLe_4CpYgQK",
        "colab_type": "code",
        "colab": {}
      },
      "source": [
        "Width_Grain=Width_All.iloc[grain]"
      ],
      "execution_count": null,
      "outputs": []
    },
    {
      "cell_type": "code",
      "metadata": {
        "id": "wuv-ZqzBO5gG",
        "colab_type": "code",
        "colab": {}
      },
      "source": [
        "Width_Grain=np.array(Width_Grain) # passando de Serie (dataframe 1d) para np.array\n",
        "print(Width_Grain) \n"
      ],
      "execution_count": null,
      "outputs": []
    },
    {
      "cell_type": "code",
      "metadata": {
        "id": "eiaxgbsoO3nB",
        "colab_type": "code",
        "colab": {}
      },
      "source": [
        "print(Width_Grain_2) # lista : tem virgula entre os elementos"
      ],
      "execution_count": null,
      "outputs": []
    },
    {
      "cell_type": "markdown",
      "metadata": {
        "id": "HbBBcNo46AWy",
        "colab_type": "text"
      },
      "source": [
        "# Fifth step create classes"
      ]
    },
    {
      "cell_type": "code",
      "metadata": {
        "id": "7j23MjtE57Gt",
        "colab_type": "code",
        "colab": {}
      },
      "source": [
        "Width_bounds=[100,200]\n",
        "N_Class=4\n",
        "Class=[]\n",
        "a=Width_bounds[0]\n",
        "b=Width_bounds[1]\n",
        "delta_ab=(b-a)/N_Class\n",
        "for i in range(N_Class-1):\n",
        "  valor=a+delta_ab*(i+1)\n",
        "  Class.append(valor)\n",
        "\n",
        "print(Class)\n"
      ],
      "execution_count": null,
      "outputs": []
    },
    {
      "cell_type": "code",
      "metadata": {
        "id": "qf-sX8qd6s8L",
        "colab_type": "code",
        "colab": {}
      },
      "source": [
        "Num=len(Width_Grain)\n",
        "count=[0,0,0,0]\n",
        "Hist_Width=[]\n",
        "for i in range(Num):\n",
        "  if(Width_Grain[i]<Class[0]):\n",
        "    count[0]=count[0]+1\n",
        "    Hist_Width.append(0)\n",
        "  elif(Width_Grain[i]<Class[1]):\n",
        "    count[1]=count[1]+1\n",
        "    Hist_Width.append(1)\n",
        "  elif(Width_Grain[i]<Class[2]):\n",
        "    count[2]=count[2]+1\n",
        "    Hist_Width.append(2)\n",
        "  else:\n",
        "    count[3]=count[3]+1\n",
        "    Hist_Width.append(3)\n",
        "\n",
        "print(count)\n",
        "N_count=np.copy(count)\n",
        "\n",
        "Nomes_class=['until_w1','w1-w2','w2-w3','bigger-w3']+Nomes_PSD"
      ],
      "execution_count": null,
      "outputs": []
    },
    {
      "cell_type": "code",
      "metadata": {
        "id": "t6QhlSI5Z3wB",
        "colab_type": "code",
        "colab": {}
      },
      "source": [
        "print(Hist_Width)"
      ],
      "execution_count": null,
      "outputs": []
    },
    {
      "cell_type": "code",
      "metadata": {
        "id": "SmNgEFpJdpeK",
        "colab_type": "code",
        "colab": {}
      },
      "source": [
        "print(Features_Total.iloc[0,1])"
      ],
      "execution_count": null,
      "outputs": []
    },
    {
      "cell_type": "code",
      "metadata": {
        "id": "TSxUsRTVdTdi",
        "colab_type": "code",
        "colab": {}
      },
      "source": [
        "rows=len(Width_Grain)\n",
        "cols=len(Nomes_PSD)\n",
        "Features_Class=np.zeros((4,cols)) # matrix containing average values stored. Each line is reprenting a different class\n",
        "\n",
        "for i in range(rows):\n",
        "  k=Hist_Width[i]\n",
        "  for j in range(cols):  \n",
        "    Features_Class[k,j]=Features_Class[k,j]+ Features_Total.iloc[i,j]\n",
        "\n",
        "print(pd.DataFrame(Features_Class,columns=Nomes_PSD))"
      ],
      "execution_count": null,
      "outputs": []
    },
    {
      "cell_type": "code",
      "metadata": {
        "id": "g11B8SyJio6J",
        "colab_type": "code",
        "colab": {}
      },
      "source": [
        "for i in range(4):\n",
        "  if(N_count[i]==0):\n",
        "    fator=0\n",
        "  else:\n",
        "    fator=1/N_count[i]\n",
        "  Features_Class[i,:]=Features_Class[i,:]*fator\n",
        "print(pd.DataFrame(Features_Class,columns=Nomes_PSD))"
      ],
      "execution_count": null,
      "outputs": []
    },
    {
      "cell_type": "code",
      "metadata": {
        "id": "RZnP1WyTjBJS",
        "colab_type": "code",
        "colab": {}
      },
      "source": [
        "print(N_count)"
      ],
      "execution_count": null,
      "outputs": []
    },
    {
      "cell_type": "code",
      "metadata": {
        "id": "rnoYTsonie7J",
        "colab_type": "code",
        "colab": {}
      },
      "source": [
        ""
      ],
      "execution_count": null,
      "outputs": []
    }
  ]
}